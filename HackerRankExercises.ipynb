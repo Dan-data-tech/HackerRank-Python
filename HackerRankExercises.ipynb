{
  "nbformat": 4,
  "nbformat_minor": 0,
  "metadata": {
    "colab": {
      "provenance": [],
      "authorship_tag": "ABX9TyN2Srvqjeewn/Lv/z9S2d16"
    },
    "kernelspec": {
      "name": "python3",
      "display_name": "Python 3"
    },
    "language_info": {
      "name": "python"
    }
  },
  "cells": [
    {
      "cell_type": "markdown",
      "source": [
        "# **List Comprehensions**"
      ],
      "metadata": {
        "id": "9gxay_QszuLZ"
      }
    },
    {
      "cell_type": "code",
      "execution_count": null,
      "metadata": {
        "colab": {
          "base_uri": "https://localhost:8080/"
        },
        "id": "NPleVkjKwQ4F",
        "outputId": "4707f970-0929-4cce-9bb6-2322316c30b1"
      },
      "outputs": [
        {
          "output_type": "stream",
          "name": "stdout",
          "text": [
            "1\n",
            "1\n",
            "1\n",
            "2\n",
            "[[0, 0, 0], [0, 0, 1], [0, 1, 0], [1, 0, 0], [1, 1, 1]]\n"
          ]
        }
      ],
      "source": [
        "x = int(input())\n",
        "y = int(input())\n",
        "z = int(input())\n",
        "n = int(input())\n",
        "ichoice= [i for i in range(x+1)]\n",
        "jchoice= [j for j in range(y+1)]\n",
        "kchoice= [k for k in range(z+1)]\n",
        "print([[i,j,k] for i in ichoice for j in jchoice for k in kchoice if i+j+k != n])\n",
        "\n"
      ]
    },
    {
      "cell_type": "markdown",
      "source": [
        "# **Runner Up Score**"
      ],
      "metadata": {
        "id": "azXYnHI82Zvt"
      }
    },
    {
      "cell_type": "code",
      "source": [
        "n = int(input())\n",
        "arr = map(int, input().split())\n",
        "from math import *\n",
        "arr=list(arr)\n",
        "maxi=max(arr)\n",
        "count = arr.count(maxi)\n",
        "for i in range (count):\n",
        "  arr.remove(maxi)\n",
        "print(max(arr))"
      ],
      "metadata": {
        "colab": {
          "base_uri": "https://localhost:8080/"
        },
        "id": "gWj1RmgS0nR_",
        "outputId": "3900ddc6-b857-4307-9fa4-9c1feaa3140c"
      },
      "execution_count": null,
      "outputs": [
        {
          "output_type": "stream",
          "name": "stdout",
          "text": [
            "5\n",
            "2 3 6 6 5\n",
            "5\n"
          ]
        }
      ]
    },
    {
      "cell_type": "markdown",
      "source": [
        "# **Finding the %**"
      ],
      "metadata": {
        "id": "WYSoz44t12mD"
      }
    },
    {
      "cell_type": "code",
      "source": [
        "n = int(input())\n",
        "student_marks = {}\n",
        "for _ in range(n):\n",
        "   name, *line = input().split()\n",
        "   scores = list(map(float, line))\n",
        "   student_marks[name] = scores\n",
        "query_name = input()\n",
        "total=sum(student_marks[query_name]) / len(student_marks[query_name])\n",
        "print('%.2f' % total)"
      ],
      "metadata": {
        "colab": {
          "base_uri": "https://localhost:8080/"
        },
        "id": "5mh9XntS1_rR",
        "outputId": "8b2cf1f5-d2b4-4f49-ad07-101cca752f5b"
      },
      "execution_count": null,
      "outputs": [
        {
          "output_type": "stream",
          "name": "stdout",
          "text": [
            "2\n",
            "Harsh 25 26.5 28\n",
            "Anurag 26 28 30\n",
            "Harsh\n",
            "26.50\n"
          ]
        }
      ]
    },
    {
      "cell_type": "markdown",
      "source": [
        "# **Lists**"
      ],
      "metadata": {
        "id": "Sfpuji4m-c3a"
      }
    },
    {
      "cell_type": "code",
      "source": [
        "N = int(input())\n",
        "list=[]\n",
        "for i in range(N):\n",
        "  command=input().strip().split()\n",
        "\n",
        "  if command[0]=='insert':\n",
        "    list.insert(int(command[2]),int(command[1]))\n",
        "  elif command[0]=='print':\n",
        "    print(list)\n",
        "  elif command[0]=='remove':\n",
        "    list.remove(int(command[1]))\n",
        "  elif command[0]=='append':\n",
        "    list.append(int(command[1]))\n",
        "  elif command[0]=='sort':\n",
        "    list.sort()\n",
        "  elif command[0]=='pop':\n",
        "    list.pop()\n",
        "  elif command[0]=='reverse':\n",
        "    list.reverse()"
      ],
      "metadata": {
        "colab": {
          "base_uri": "https://localhost:8080/"
        },
        "id": "VjxtusL_CzzO",
        "outputId": "6e9829f0-5aa5-4e4f-e640-9ffc2c875a48"
      },
      "execution_count": null,
      "outputs": [
        {
          "output_type": "stream",
          "name": "stdout",
          "text": [
            "4\n",
            "append 1\n",
            "append 2\n",
            "insert 3 1 \n",
            "print\n",
            "[1, 3, 2]\n"
          ]
        }
      ]
    },
    {
      "cell_type": "markdown",
      "source": [
        "# **Tuples**"
      ],
      "metadata": {
        "id": "Rt3yAwHuOeE6"
      }
    },
    {
      "cell_type": "code",
      "source": [
        "n = int(input())\n",
        "integer_list = map(int, input().split())\n",
        "t=tuple(integer_list)\n",
        "print(hash(t))"
      ],
      "metadata": {
        "colab": {
          "base_uri": "https://localhost:8080/"
        },
        "id": "fjt_QhcvJhGz",
        "outputId": "de406a95-bd31-4e9c-c42c-47769e5c6c48"
      },
      "execution_count": null,
      "outputs": [
        {
          "output_type": "stream",
          "name": "stdout",
          "text": [
            "2\n",
            "1 2\n",
            "-3550055125485641917\n"
          ]
        }
      ]
    },
    {
      "cell_type": "markdown",
      "source": [
        "# **sWAP cASE**"
      ],
      "metadata": {
        "id": "LQwso5ZKlMsN"
      }
    },
    {
      "cell_type": "code",
      "source": [
        "def swap_case(s):\n",
        "  string=\"\"\n",
        "  for char in s:\n",
        "    if char.isupper():\n",
        "      string+=char.lower()\n",
        "    else:\n",
        "      string+=char.upper()\n",
        "  return string\n"
      ],
      "metadata": {
        "id": "ZwF3yiZClShn"
      },
      "execution_count": null,
      "outputs": []
    },
    {
      "cell_type": "code",
      "source": [
        "s='Dana'\n",
        "swap_case(s)"
      ],
      "metadata": {
        "colab": {
          "base_uri": "https://localhost:8080/",
          "height": 36
        },
        "id": "iAXavVyCmZ-q",
        "outputId": "db1c53bb-47c7-437c-af8c-dac57889187e"
      },
      "execution_count": null,
      "outputs": [
        {
          "output_type": "execute_result",
          "data": {
            "text/plain": [
              "'dANA'"
            ],
            "application/vnd.google.colaboratory.intrinsic+json": {
              "type": "string"
            }
          },
          "metadata": {},
          "execution_count": 10
        }
      ]
    },
    {
      "cell_type": "markdown",
      "source": [
        "# **What's Your Name?**"
      ],
      "metadata": {
        "id": "4ucTlff_EytH"
      }
    },
    {
      "cell_type": "code",
      "source": [
        "def print_full_name(first,last):\n",
        "  print(\"Hello {} {}! You just delved into python.\".format(first,last))"
      ],
      "metadata": {
        "id": "SiqaF1izE8xp"
      },
      "execution_count": null,
      "outputs": []
    },
    {
      "cell_type": "code",
      "source": [
        "first=input()\n",
        "last=input()\n",
        "print_full_name(first,last)"
      ],
      "metadata": {
        "colab": {
          "base_uri": "https://localhost:8080/",
          "height": 72
        },
        "id": "uzHvOXbdFr4d",
        "outputId": "c2a754cb-eb8e-4a61-8c58-833f0278f18b"
      },
      "execution_count": null,
      "outputs": [
        {
          "name": "stdout",
          "output_type": "stream",
          "text": [
            "Dana\n",
            "Diab\n"
          ]
        },
        {
          "output_type": "execute_result",
          "data": {
            "text/plain": [
              "'Hello Dana Diab! You just delved into python'"
            ],
            "application/vnd.google.colaboratory.intrinsic+json": {
              "type": "string"
            }
          },
          "metadata": {},
          "execution_count": 3
        }
      ]
    },
    {
      "cell_type": "markdown",
      "source": [
        "# **Mutations**"
      ],
      "metadata": {
        "id": "ZtvDmlcL8nvt"
      }
    },
    {
      "cell_type": "code",
      "source": [
        "def mutate_string(string, position, character):\n",
        "  string=list(string)\n",
        "  string[position]=character\n",
        "  string=''.join(string)\n",
        "  return string"
      ],
      "metadata": {
        "id": "FQx_4tMd8qmJ"
      },
      "execution_count": null,
      "outputs": []
    },
    {
      "cell_type": "code",
      "source": [
        "s=input()\n",
        "i,c=input().split()\n",
        "s_new=mutate_string(s,int(i),c)"
      ],
      "metadata": {
        "colab": {
          "base_uri": "https://localhost:8080/"
        },
        "id": "yEjh7PbJ9Lcu",
        "outputId": "acf02ef6-a12f-4498-8177-59743258d96b"
      },
      "execution_count": null,
      "outputs": [
        {
          "name": "stdout",
          "output_type": "stream",
          "text": [
            "abrackdabra\n",
            "5 k \n"
          ]
        }
      ]
    },
    {
      "cell_type": "code",
      "source": [
        "print(s_new)"
      ],
      "metadata": {
        "id": "Ky7jGDuj9hzl",
        "outputId": "39eb2e54-538c-4b17-cef4-62948ae0d26f",
        "colab": {
          "base_uri": "https://localhost:8080/"
        }
      },
      "execution_count": null,
      "outputs": [
        {
          "output_type": "stream",
          "name": "stdout",
          "text": [
            "abrackdabra\n"
          ]
        }
      ]
    },
    {
      "cell_type": "markdown",
      "source": [
        "# **Find a string**"
      ],
      "metadata": {
        "id": "Fd5tuP1CE1PS"
      }
    },
    {
      "cell_type": "code",
      "source": [
        "def count_substring(string, sub_string):\n",
        "  count=0\n",
        "  for i in range(len(string)):\n",
        "    if string[i:i+3] == sub_string:\n",
        "      count+=1\n",
        "  return count"
      ],
      "metadata": {
        "id": "eDJ4bljAE5rN"
      },
      "execution_count": null,
      "outputs": []
    },
    {
      "cell_type": "code",
      "source": [
        "string = input().strip()\n",
        "sub_string = input().strip()\n",
        "\n",
        "count = count_substring(string, sub_string)\n",
        "print(count)"
      ],
      "metadata": {
        "colab": {
          "base_uri": "https://localhost:8080/"
        },
        "id": "hbr7a5fDE8m4",
        "outputId": "8fc6cd4a-776a-4000-d75d-1301fcab21c2"
      },
      "execution_count": null,
      "outputs": [
        {
          "output_type": "stream",
          "name": "stdout",
          "text": [
            "ABCDCDC\n",
            "CDC\n",
            "2\n"
          ]
        }
      ]
    },
    {
      "cell_type": "code",
      "source": [
        "string='ABCDCDC'\n",
        "sub_string='CDC'\n",
        "for i in range(len(string)):\n",
        "   print(string[i:i+3])"
      ],
      "metadata": {
        "colab": {
          "base_uri": "https://localhost:8080/"
        },
        "id": "d3wNs8soE9Vz",
        "outputId": "b2cf59c1-8188-43a7-e335-b6257e784d60"
      },
      "execution_count": null,
      "outputs": [
        {
          "output_type": "stream",
          "name": "stdout",
          "text": [
            "ABC\n",
            "BCD\n",
            "CDC\n",
            "DCD\n",
            "CDC\n",
            "DC\n",
            "C\n"
          ]
        }
      ]
    },
    {
      "cell_type": "markdown",
      "source": [
        "# **String Validators**"
      ],
      "metadata": {
        "id": "HGMM2-mzPMUZ"
      }
    },
    {
      "cell_type": "code",
      "source": [
        "S = input()\n",
        "count_alnum = 0\n",
        "count_alpha = 0\n",
        "count_digit = 0\n",
        "count_lower = 0\n",
        "count_upper = 0\n",
        "\n",
        "for char in S:\n",
        "  if char.isalnum():\n",
        "    count_alnum+=1\n",
        "  if char.isalpha():\n",
        "    count_alpha+=1\n",
        "  if char.isdigit():\n",
        "    count_digit+=1\n",
        "  if char.islower():\n",
        "    count_lower+=1\n",
        "  if char.isupper():\n",
        "    count_upper+=1\n",
        "\n",
        "if count_alnum > 0:\n",
        "  print('True')\n",
        "else:\n",
        "  print('False')\n",
        "if count_alpha > 0:\n",
        "  print('True')\n",
        "else:\n",
        "  print('False')\n",
        "if count_digit > 0:\n",
        "  print('True')\n",
        "else:\n",
        "  print('False')\n",
        "if count_lower > 0:\n",
        "  print('True')\n",
        "else:\n",
        "  print('False')\n",
        "if count_upper > 0:\n",
        "  print('True')\n",
        "else:\n",
        "  print('False')"
      ],
      "metadata": {
        "colab": {
          "base_uri": "https://localhost:8080/"
        },
        "id": "vZ_UVbSlQTrE",
        "outputId": "baa250ff-a657-4f96-9f7f-245cdbf05f53"
      },
      "execution_count": null,
      "outputs": [
        {
          "output_type": "stream",
          "name": "stdout",
          "text": [
            "qA2\n",
            "True\n",
            "True\n",
            "True\n",
            "True\n",
            "True\n"
          ]
        }
      ]
    },
    {
      "cell_type": "markdown",
      "source": [
        "# **Test Alignment**"
      ],
      "metadata": {
        "id": "tXJ2vWWlRpfP"
      }
    },
    {
      "cell_type": "code",
      "source": [
        "thickness = int(input())  # This can be any odd number\n",
        "c = 'H'\n",
        "\n",
        "# Top Cone\n",
        "for i in range(thickness):\n",
        "    print((c*i).rjust(thickness-1) + c + (c*i).ljust(thickness-1))\n",
        "\n",
        "# Top Pillars\n",
        "for i in range(thickness+1):\n",
        "    print((c*thickness).center(thickness*2) + (c*thickness).center(thickness*6))\n",
        "\n",
        "# Middle Belt\n",
        "for i in range((thickness+1)//2):\n",
        "    print((c*thickness*5).center(thickness*6))\n",
        "\n",
        "# Bottom Pillars\n",
        "for i in range(thickness+1):\n",
        "    print((c*thickness).center(thickness*2) + (c*thickness).center(thickness*6))\n",
        "\n",
        "# Bottom Cone\n",
        "for i in range(thickness):\n",
        "    print(6((c*(thickness-i-1)).rjust(thickness) + c + (c*(thickness-i-1)).ljust(thickness)).rjust(thickness*6))\n"
      ],
      "metadata": {
        "colab": {
          "base_uri": "https://localhost:8080/"
        },
        "id": "bghh58B3Ruqe",
        "outputId": "52c88e6a-aead-4fea-ab70-1538ccb4cae9"
      },
      "execution_count": null,
      "outputs": [
        {
          "output_type": "stream",
          "name": "stdout",
          "text": [
            "    H    \n",
            "   HHH   \n",
            "  HHHHH  \n",
            " HHHHHHH \n",
            "HHHHHHHHH\n",
            "  HHHHH               HHHHH             \n",
            "  HHHHH               HHHHH             \n",
            "  HHHHH               HHHHH             \n",
            "  HHHHH               HHHHH             \n",
            "  HHHHH               HHHHH             \n",
            "  HHHHH               HHHHH             \n",
            "  HHHHHHHHHHHHHHHHHHHHHHHHH   \n",
            "  HHHHHHHHHHHHHHHHHHHHHHHHH   \n",
            "  HHHHHHHHHHHHHHHHHHHHHHHHH   \n",
            "  HHHHH               HHHHH             \n",
            "  HHHHH               HHHHH             \n",
            "  HHHHH               HHHHH             \n",
            "  HHHHH               HHHHH             \n",
            "  HHHHH               HHHHH             \n",
            "  HHHHH               HHHHH             \n",
            "                    HHHHHHHHH \n",
            "                     HHHHHHH  \n",
            "                      HHHHH   \n",
            "                       HHH    \n",
            "                        H     \n"
          ]
        }
      ]
    },
    {
      "cell_type": "markdown",
      "source": [
        "# **Text Wrap**"
      ],
      "metadata": {
        "id": "O4x__LA2oBDW"
      }
    },
    {
      "cell_type": "code",
      "source": [
        "import textwrap\n",
        "\n",
        "def wrap(string, max_width):\n",
        "  wrapped_text = textwrap.fill(string,max_width)\n",
        "  return wrapped_text\n"
      ],
      "metadata": {
        "id": "VTZ3uE-7oEba"
      },
      "execution_count": null,
      "outputs": []
    },
    {
      "cell_type": "code",
      "source": [
        "string, max_width = input(), int(input())\n",
        "result = wrap(string, max_width)\n",
        "print(result)"
      ],
      "metadata": {
        "colab": {
          "base_uri": "https://localhost:8080/"
        },
        "id": "W7XknZlro0FK",
        "outputId": "2d04f096-e675-4834-e657-0124f74a0de4"
      },
      "execution_count": null,
      "outputs": [
        {
          "output_type": "stream",
          "name": "stdout",
          "text": [
            "ABCDEFGHIJKLIMNOQRSTUVWXYZ\n",
            "4\n",
            "ABCD\n",
            "EFGH\n",
            "IJKL\n",
            "IMNO\n",
            "QRST\n",
            "UVWX\n",
            "YZ\n"
          ]
        }
      ]
    },
    {
      "cell_type": "markdown",
      "source": [
        "# **Designer Door Mat**"
      ],
      "metadata": {
        "id": "nQzMLpbHZnpJ"
      }
    },
    {
      "cell_type": "code",
      "source": [
        "prime = [x for x in range(101) if x % 2 != 0]"
      ],
      "metadata": {
        "id": "q9o3kFbQrQHb"
      },
      "execution_count": null,
      "outputs": []
    },
    {
      "cell_type": "code",
      "source": [
        "N, M = map(int,input().split())\n",
        "\n",
        "for i in range(N//2):\n",
        "  print(('.|.'*(prime[i])).center(M,'-'))\n",
        "print('WELCOME'.center(M,'-'))\n",
        "for i in range(N//2-1,-1,-1):\n",
        "  print(('.|.'*(prime[i])).center(M,'-'))"
      ],
      "metadata": {
        "colab": {
          "base_uri": "https://localhost:8080/"
        },
        "id": "ZN5I34R1ZsI3",
        "outputId": "bda7fb89-fc1e-4809-e5c3-83ec95653347"
      },
      "execution_count": null,
      "outputs": [
        {
          "output_type": "stream",
          "name": "stdout",
          "text": [
            "9 27\n",
            "------------.|.------------\n",
            "---------.|..|..|.---------\n",
            "------.|..|..|..|..|.------\n",
            "---.|..|..|..|..|..|..|.---\n",
            "----------WELCOME----------\n",
            "---.|..|..|..|..|..|..|.---\n",
            "------.|..|..|..|..|.------\n",
            "---------.|..|..|.---------\n",
            "------------.|.------------\n"
          ]
        }
      ]
    },
    {
      "cell_type": "markdown",
      "source": [
        "# **String Formatting**"
      ],
      "metadata": {
        "id": "ztzIoJCFnUBG"
      }
    },
    {
      "cell_type": "code",
      "source": [
        "def print_formatted(number):\n",
        "  width = len(bin(number)[2:])\n",
        "  for i in range(1,number + 1):\n",
        "    decimal = str(i).rjust(width)\n",
        "    octal = oct(i)[2:].rjust(width)\n",
        "    hexadecimal = hex(i)[2:].upper().rjust(width)\n",
        "    binary = bin(i)[2:].rjust(width)\n",
        "    print(decimal,octal,hexadecimal,binary)"
      ],
      "metadata": {
        "id": "HL0gXr7VnS8r"
      },
      "execution_count": null,
      "outputs": []
    },
    {
      "cell_type": "code",
      "source": [
        "# let's try\n",
        "number = 17\n",
        "print_formatted(number)"
      ],
      "metadata": {
        "colab": {
          "base_uri": "https://localhost:8080/"
        },
        "id": "CwBHuuwopU34",
        "outputId": "439de59d-0c40-47a8-d923-4a852f3017c8"
      },
      "execution_count": null,
      "outputs": [
        {
          "output_type": "stream",
          "name": "stdout",
          "text": [
            "    1     1     1     1\n",
            "    2     2     2    10\n",
            "    3     3     3    11\n",
            "    4     4     4   100\n",
            "    5     5     5   101\n",
            "    6     6     6   110\n",
            "    7     7     7   111\n",
            "    8    10     8  1000\n",
            "    9    11     9  1001\n",
            "   10    12     A  1010\n",
            "   11    13     B  1011\n",
            "   12    14     C  1100\n",
            "   13    15     D  1101\n",
            "   14    16     E  1110\n",
            "   15    17     F  1111\n",
            "   16    20    10 10000\n",
            "   17    21    11 10001\n"
          ]
        }
      ]
    },
    {
      "cell_type": "markdown",
      "source": [
        "# **Alphabet Rangoli**"
      ],
      "metadata": {
        "id": "wwvhjF8_2sY7"
      }
    },
    {
      "cell_type": "code",
      "source": [
        "def print_rangoli(size):\n",
        "  alpha = 'abcdefghijklmnopqrstuvwxyz'\n",
        "\n",
        "  for i in range(size-1, -1, -1):\n",
        "    s = '-'.join(alpha[i:size])\n",
        "    print(((s[::-1] + s[1:]).center(4*size-3,'-')))\n",
        "  for i in range(1,size):\n",
        "    s = '-'.join(alpha[i:size])\n",
        "    print(((s[::-1] + s[1:]).center(4*size-3,'-')))"
      ],
      "metadata": {
        "id": "m_0YJNLr2yDL"
      },
      "execution_count": null,
      "outputs": []
    },
    {
      "cell_type": "code",
      "source": [
        "# let's try size of 10\n",
        "print_rangoli(10)"
      ],
      "metadata": {
        "colab": {
          "base_uri": "https://localhost:8080/"
        },
        "id": "EZnfaO3s3Pc6",
        "outputId": "5c929141-f196-4f6b-ea6a-e56464af81ca"
      },
      "execution_count": null,
      "outputs": [
        {
          "output_type": "stream",
          "name": "stdout",
          "text": [
            "------------------j------------------\n",
            "----------------j-i-j----------------\n",
            "--------------j-i-h-i-j--------------\n",
            "------------j-i-h-g-h-i-j------------\n",
            "----------j-i-h-g-f-g-h-i-j----------\n",
            "--------j-i-h-g-f-e-f-g-h-i-j--------\n",
            "------j-i-h-g-f-e-d-e-f-g-h-i-j------\n",
            "----j-i-h-g-f-e-d-c-d-e-f-g-h-i-j----\n",
            "--j-i-h-g-f-e-d-c-b-c-d-e-f-g-h-i-j--\n",
            "j-i-h-g-f-e-d-c-b-a-b-c-d-e-f-g-h-i-j\n",
            "--j-i-h-g-f-e-d-c-b-c-d-e-f-g-h-i-j--\n",
            "----j-i-h-g-f-e-d-c-d-e-f-g-h-i-j----\n",
            "------j-i-h-g-f-e-d-e-f-g-h-i-j------\n",
            "--------j-i-h-g-f-e-f-g-h-i-j--------\n",
            "----------j-i-h-g-f-g-h-i-j----------\n",
            "------------j-i-h-g-h-i-j------------\n",
            "--------------j-i-h-i-j--------------\n",
            "----------------j-i-j----------------\n",
            "------------------j------------------\n"
          ]
        }
      ]
    },
    {
      "cell_type": "markdown",
      "source": [
        "# **Python if-Else**"
      ],
      "metadata": {
        "id": "N92PKZKyygzZ"
      }
    },
    {
      "cell_type": "code",
      "source": [
        "def find_print(n):\n",
        "  if n%2!=0:\n",
        "    print(\"Weird\")\n",
        "  elif n%2==0 and 2<=n<=5:\n",
        "    print('Not Weird')\n",
        "  elif n%2==0 and 6<=n<=20:\n",
        "    print('Weird')\n",
        "  elif n%2==0 and n>20:\n",
        "    print('Not Weird')"
      ],
      "metadata": {
        "id": "eOQ5Iyfzynf1"
      },
      "execution_count": null,
      "outputs": []
    },
    {
      "cell_type": "code",
      "source": [
        "n = int(input().strip())\n",
        "find_print(n)"
      ],
      "metadata": {
        "colab": {
          "base_uri": "https://localhost:8080/"
        },
        "id": "frrQEeVLzgtj",
        "outputId": "d0e6b035-731a-417f-cbd0-6582099c90df"
      },
      "execution_count": null,
      "outputs": [
        {
          "output_type": "stream",
          "name": "stdout",
          "text": [
            "24\n",
            "Not Weird\n"
          ]
        }
      ]
    },
    {
      "cell_type": "markdown",
      "source": [
        "# **Nested Lists**"
      ],
      "metadata": {
        "id": "za-Pz5bjLiQk"
      }
    },
    {
      "cell_type": "code",
      "source": [
        "s = []\n",
        "n = []\n",
        "l = []\n",
        "for _ in range(int(input())):\n",
        " name = input()\n",
        " score = float(input())\n",
        " s.append(score)\n",
        " n.append([name,score])\n",
        "\n",
        "s = list(set(s))\n",
        "s.sort()\n",
        "second_lowest= s[1]\n",
        "\n",
        "for i in range(len(n)):\n",
        "  if n[i][1] == second_lowest:\n",
        "    l.append(n[i][0])\n",
        "l.sort()\n",
        "for _ in l:\n",
        "  print(_)"
      ],
      "metadata": {
        "id": "25QHKkZTLlxw",
        "colab": {
          "base_uri": "https://localhost:8080/"
        },
        "outputId": "91ff02c0-7857-4091-d48e-78b287e2505a"
      },
      "execution_count": null,
      "outputs": [
        {
          "output_type": "stream",
          "name": "stdout",
          "text": [
            "5\n",
            "Harry\n",
            "37.21\n",
            "Berry\n",
            "37.21\n",
            "Tina\n",
            "37.2\n",
            "Akriti\n",
            "41\n",
            "Harsh\n",
            "39\n",
            "Berry\n",
            "Harry\n"
          ]
        }
      ]
    },
    {
      "cell_type": "code",
      "source": [
        "products = ('1','2','3','5','6')\n",
        "tester = slice(1,4,2)\n",
        "print(products[tester])"
      ],
      "metadata": {
        "colab": {
          "base_uri": "https://localhost:8080/"
        },
        "id": "R0876QpAn__a",
        "outputId": "421a2a10-e8bb-48f7-cd91-2747a786b2e1"
      },
      "execution_count": null,
      "outputs": [
        {
          "output_type": "stream",
          "name": "stdout",
          "text": [
            "('2', '5')\n"
          ]
        }
      ]
    },
    {
      "cell_type": "markdown",
      "source": [
        "# **String Split and Join**"
      ],
      "metadata": {
        "id": "tKqvL8eYIted"
      }
    },
    {
      "cell_type": "code",
      "source": [
        "def split_and_join(line):\n",
        "  line = line.split()\n",
        "  line = '-'.join(line)\n",
        "  return line"
      ],
      "metadata": {
        "id": "ZU-Ck8TvJgu-"
      },
      "execution_count": 5,
      "outputs": []
    },
    {
      "cell_type": "code",
      "source": [
        "line = input()\n",
        "result = split_and_join(line)\n",
        "print(result)"
      ],
      "metadata": {
        "colab": {
          "base_uri": "https://localhost:8080/"
        },
        "id": "WNXEOIrQJvSW",
        "outputId": "783cd8a5-8686-4363-8d7d-708d084fba32"
      },
      "execution_count": 6,
      "outputs": [
        {
          "output_type": "stream",
          "name": "stdout",
          "text": [
            "this is a string \n",
            "this-is-a-string\n"
          ]
        }
      ]
    }
  ]
}
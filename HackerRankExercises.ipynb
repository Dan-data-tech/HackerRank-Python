{
  "nbformat": 4,
  "nbformat_minor": 0,
  "metadata": {
    "colab": {
      "provenance": [],
      "authorship_tag": "ABX9TyMONBVl05mVOY3Ik+uLLdNW",
      "include_colab_link": true
    },
    "kernelspec": {
      "name": "python3",
      "display_name": "Python 3"
    },
    "language_info": {
      "name": "python"
    }
  },
  "cells": [
    {
      "cell_type": "markdown",
      "metadata": {
        "id": "view-in-github",
        "colab_type": "text"
      },
      "source": [
        "<a href=\"https://colab.research.google.com/github/Dan-data-tech/HackerRank-Python/blob/main/HackerRankExercises.ipynb\" target=\"_parent\"><img src=\"https://colab.research.google.com/assets/colab-badge.svg\" alt=\"Open In Colab\"/></a>"
      ]
    },
    {
      "cell_type": "markdown",
      "source": [
        "# **List Comprehensions**"
      ],
      "metadata": {
        "id": "9gxay_QszuLZ"
      }
    },
    {
      "cell_type": "code",
      "execution_count": null,
      "metadata": {
        "colab": {
          "base_uri": "https://localhost:8080/"
        },
        "id": "NPleVkjKwQ4F",
        "outputId": "4707f970-0929-4cce-9bb6-2322316c30b1"
      },
      "outputs": [
        {
          "output_type": "stream",
          "name": "stdout",
          "text": [
            "1\n",
            "1\n",
            "1\n",
            "2\n",
            "[[0, 0, 0], [0, 0, 1], [0, 1, 0], [1, 0, 0], [1, 1, 1]]\n"
          ]
        }
      ],
      "source": [
        "x = int(input())\n",
        "y = int(input())\n",
        "z = int(input())\n",
        "n = int(input())\n",
        "ichoice= [i for i in range(x+1)]\n",
        "jchoice= [j for j in range(y+1)]\n",
        "kchoice= [k for k in range(z+1)]\n",
        "print([[i,j,k] for i in ichoice for j in jchoice for k in kchoice if i+j+k != n])\n",
        "\n"
      ]
    },
    {
      "cell_type": "markdown",
      "source": [
        "# **Runner Up Score**"
      ],
      "metadata": {
        "id": "azXYnHI82Zvt"
      }
    },
    {
      "cell_type": "code",
      "source": [
        "n = int(input())\n",
        "arr = map(int, input().split())\n",
        "from math import *\n",
        "arr=list(arr)\n",
        "maxi=max(arr)\n",
        "count = arr.count(maxi)\n",
        "for i in range (count):\n",
        "  arr.remove(maxi)\n",
        "print(max(arr))"
      ],
      "metadata": {
        "colab": {
          "base_uri": "https://localhost:8080/"
        },
        "id": "gWj1RmgS0nR_",
        "outputId": "3900ddc6-b857-4307-9fa4-9c1feaa3140c"
      },
      "execution_count": null,
      "outputs": [
        {
          "output_type": "stream",
          "name": "stdout",
          "text": [
            "5\n",
            "2 3 6 6 5\n",
            "5\n"
          ]
        }
      ]
    },
    {
      "cell_type": "markdown",
      "source": [
        "# **Finding the %**"
      ],
      "metadata": {
        "id": "WYSoz44t12mD"
      }
    },
    {
      "cell_type": "code",
      "source": [
        "n = int(input())\n",
        "student_marks = {}\n",
        "for _ in range(n):\n",
        "   name, *line = input().split()\n",
        "   scores = list(map(float, line))\n",
        "   student_marks[name] = scores\n",
        "query_name = input()\n",
        "total=sum(student_marks[query_name]) / len(student_marks[query_name])\n",
        "print('%.2f' % total)"
      ],
      "metadata": {
        "colab": {
          "base_uri": "https://localhost:8080/"
        },
        "id": "5mh9XntS1_rR",
        "outputId": "8b2cf1f5-d2b4-4f49-ad07-101cca752f5b"
      },
      "execution_count": null,
      "outputs": [
        {
          "output_type": "stream",
          "name": "stdout",
          "text": [
            "2\n",
            "Harsh 25 26.5 28\n",
            "Anurag 26 28 30\n",
            "Harsh\n",
            "26.50\n"
          ]
        }
      ]
    },
    {
      "cell_type": "markdown",
      "source": [
        "# **Lists**"
      ],
      "metadata": {
        "id": "Sfpuji4m-c3a"
      }
    },
    {
      "cell_type": "code",
      "source": [
        "N = int(input())\n",
        "list=[]\n",
        "for i in range(N):\n",
        "  command=input().strip().split()\n",
        "\n",
        "  if command[0]=='insert':\n",
        "    list.insert(int(command[2]),int(command[1]))\n",
        "  elif command[0]=='print':\n",
        "    print(list)\n",
        "  elif command[0]=='remove':\n",
        "    list.remove(int(command[1]))\n",
        "  elif command[0]=='append':\n",
        "    list.append(int(command[1]))\n",
        "  elif command[0]=='sort':\n",
        "    list.sort()\n",
        "  elif command[0]=='pop':\n",
        "    list.pop()\n",
        "  elif command[0]=='reverse':\n",
        "    list.reverse()"
      ],
      "metadata": {
        "colab": {
          "base_uri": "https://localhost:8080/"
        },
        "id": "VjxtusL_CzzO",
        "outputId": "6e9829f0-5aa5-4e4f-e640-9ffc2c875a48"
      },
      "execution_count": null,
      "outputs": [
        {
          "output_type": "stream",
          "name": "stdout",
          "text": [
            "4\n",
            "append 1\n",
            "append 2\n",
            "insert 3 1 \n",
            "print\n",
            "[1, 3, 2]\n"
          ]
        }
      ]
    },
    {
      "cell_type": "markdown",
      "source": [
        "# Tuples"
      ],
      "metadata": {
        "id": "Rt3yAwHuOeE6"
      }
    },
    {
      "cell_type": "code",
      "source": [
        "n = int(input())\n",
        "integer_list = map(int, input().split())\n",
        "t=tuple(integer_list)\n",
        "print(hash(t))"
      ],
      "metadata": {
        "colab": {
          "base_uri": "https://localhost:8080/"
        },
        "id": "fjt_QhcvJhGz",
        "outputId": "de406a95-bd31-4e9c-c42c-47769e5c6c48"
      },
      "execution_count": null,
      "outputs": [
        {
          "output_type": "stream",
          "name": "stdout",
          "text": [
            "2\n",
            "1 2\n",
            "-3550055125485641917\n"
          ]
        }
      ]
    },
    {
      "cell_type": "markdown",
      "source": [
        "# **sWAP cASE**"
      ],
      "metadata": {
        "id": "LQwso5ZKlMsN"
      }
    },
    {
      "cell_type": "code",
      "source": [
        "def swap_case(s):\n",
        "  string=\"\"\n",
        "  for char in s:\n",
        "    if char.isupper():\n",
        "      string+=char.lower()\n",
        "    else:\n",
        "      string+=char.upper()\n",
        "  return string\n"
      ],
      "metadata": {
        "id": "ZwF3yiZClShn"
      },
      "execution_count": null,
      "outputs": []
    },
    {
      "cell_type": "code",
      "source": [
        "s='Dana'\n",
        "swap_case(s)"
      ],
      "metadata": {
        "colab": {
          "base_uri": "https://localhost:8080/",
          "height": 36
        },
        "id": "iAXavVyCmZ-q",
        "outputId": "db1c53bb-47c7-437c-af8c-dac57889187e"
      },
      "execution_count": null,
      "outputs": [
        {
          "output_type": "execute_result",
          "data": {
            "text/plain": [
              "'dANA'"
            ],
            "application/vnd.google.colaboratory.intrinsic+json": {
              "type": "string"
            }
          },
          "metadata": {},
          "execution_count": 10
        }
      ]
    },
    {
      "cell_type": "markdown",
      "source": [
        "# **What's Your Name?**"
      ],
      "metadata": {
        "id": "4ucTlff_EytH"
      }
    },
    {
      "cell_type": "code",
      "source": [
        "def print_full_name(first,last):\n",
        "  print(\"Hello {} {}! You just delved into python.\".format(first,last))"
      ],
      "metadata": {
        "id": "SiqaF1izE8xp"
      },
      "execution_count": null,
      "outputs": []
    },
    {
      "cell_type": "code",
      "source": [
        "first=input()\n",
        "last=input()\n",
        "print_full_name(first,last)"
      ],
      "metadata": {
        "colab": {
          "base_uri": "https://localhost:8080/",
          "height": 72
        },
        "id": "uzHvOXbdFr4d",
        "outputId": "c2a754cb-eb8e-4a61-8c58-833f0278f18b"
      },
      "execution_count": null,
      "outputs": [
        {
          "name": "stdout",
          "output_type": "stream",
          "text": [
            "Dana\n",
            "Diab\n"
          ]
        },
        {
          "output_type": "execute_result",
          "data": {
            "text/plain": [
              "'Hello Dana Diab! You just delved into python'"
            ],
            "application/vnd.google.colaboratory.intrinsic+json": {
              "type": "string"
            }
          },
          "metadata": {},
          "execution_count": 3
        }
      ]
    },
    {
      "cell_type": "markdown",
      "source": [
        "# **Mutations**"
      ],
      "metadata": {
        "id": "5vUP_seV5376"
      }
    },
    {
      "cell_type": "code",
      "source": [],
      "metadata": {
        "id": "bbGBr20357TW"
      },
      "execution_count": null,
      "outputs": []
    }
  ]
}